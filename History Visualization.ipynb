{
 "cells": [
  {
   "cell_type": "code",
   "execution_count": 9,
   "metadata": {},
   "outputs": [],
   "source": [
    "import numpy as np\n",
    "import pickle\n",
    "from compute_elo import default_player, get_char_mapping"
   ]
  },
  {
   "cell_type": "code",
   "execution_count": 2,
   "metadata": {},
   "outputs": [],
   "source": [
    "infile =  open('./data/history_file','rb')\n",
    "history = pickle.load(infile)"
   ]
  },
  {
   "cell_type": "code",
   "execution_count": 3,
   "metadata": {},
   "outputs": [],
   "source": [
    "match_numbers = [len(history[player]) for player in history]"
   ]
  },
  {
   "cell_type": "code",
   "execution_count": 4,
   "metadata": {},
   "outputs": [
    {
     "data": {
      "text/plain": [
       "8.95262946607788"
      ]
     },
     "execution_count": 4,
     "metadata": {},
     "output_type": "execute_result"
    }
   ],
   "source": [
    "np.mean(match_numbers)"
   ]
  },
  {
   "cell_type": "code",
   "execution_count": 5,
   "metadata": {},
   "outputs": [],
   "source": [
    "final_scores = list()\n",
    "\n",
    "for player in history:\n",
    "    final_score = history[player][-1][1]\n",
    "    final_scores.append(final_score)\n",
    "score_array = np.array(final_scores)"
   ]
  },
  {
   "cell_type": "code",
   "execution_count": 13,
   "metadata": {
    "scrolled": true
   },
   "outputs": [
    {
     "name": "stdout",
     "output_type": "stream",
     "text": [
      "1302,Mario 1187.0702927848624\n",
      "1407,King K. Rool 1189.277955639081\n",
      "1304,Marth 1190.154894492577\n",
      "1408,Dark Samus 1192.0580759872703\n",
      "1276,Corrin 1193.7951133426368\n",
      "1406,Incineroar 1194.0700886241505\n",
      "1412,Richter 1194.3470973517092\n",
      "1332,Sonic 1194.682998847508\n",
      "1274,Captain Falcon 1195.1270407902534\n",
      "1295,Kirby 1195.1576491609324\n",
      "1275,Cloud 1195.467746508329\n",
      "1285,Falco 1195.7620149661002\n",
      "1293,Jigglypuff 1195.8943544171711\n",
      "1405,Mr. Game & Watch 1196.161715134653\n",
      "1300,Lucina 1196.228931116921\n",
      "1307,Meta Knight 1196.5759820673318\n",
      "1333,Toon Link 1196.674890577941\n",
      "1289,Greninja 1196.9165242398249\n",
      "1297,Little Mac 1197.0724488146068\n",
      "1330,Shulk 1197.2114778069704\n",
      "1409,Chrom 1197.2198574596266\n",
      "1329,Sheik 1197.2815876812217\n",
      "1271,Bayonetta 1197.3891896617845\n",
      "1322,Ridley 1197.5059445387549\n",
      "1341,Zero Suit Samus 1197.5540104258537\n",
      "1280,Donkey Kong 1198.1636321957246\n",
      "1298,Lucario 1198.2266438582283\n",
      "1299,Lucas 1198.2689326442878\n",
      "1287,Ganondorf 1198.2954940351376\n",
      "1335,Wario 1198.3286113550132\n",
      "1278,Dark Pit 1198.4297748223717\n",
      "1290,Ice Climbers 1198.8524770200056\n",
      "1410,Ken 1198.9075226385537\n",
      "1315,Pac-Man 1199.0055941414255\n",
      "1336,Wii Fit Trainer 1199.059025545511\n",
      "1310,Mewtwo 1199.1144758506434\n",
      "1291,Ike 1199.2226531992078\n",
      "1325,Rosalina 1199.5087753977093\n",
      "1321,Pokemon Trainer 1199.627773548829\n",
      "1318,Pichu 1199.6791040877474\n",
      "1282,Dr. Mario 1200.0824469601928\n",
      "1328,Samus 1200.0896661753477\n",
      "1340,Zelda 1200.1653196176856\n",
      "1319,Pikachu 1200.2149118017896\n",
      "1279,Diddy Kong 1200.4090939316789\n",
      "1411,Simon Belmont 1200.6079970525466\n",
      "1338,Yoshi 1201.285444915472\n",
      "1311,Mii Fighters 1201.5273989992731\n",
      "1327,Ryu 1201.8525596553745\n",
      "1339,Young Link 1202.0944983673685\n",
      "1301,Luigi 1202.0945437710059\n",
      "1277,Daisy 1202.226897817727\n",
      "1320,Pit 1202.320579146314\n",
      "1326,Roy 1202.363457381281\n",
      "1273,Bowser 1202.4429719598525\n",
      "1324,Robin 1203.1072879377436\n",
      "1314,Olimar 1203.2084939989106\n",
      "1272,Bowser Jr. 1203.274569380141\n",
      "1283,Duck Hunt 1203.9208063797223\n",
      "1286,Fox 1204.5098528129272\n",
      "1305,Mega Man 1205.1669077550528\n",
      "1294,King Dedede 1205.1699513671208\n",
      "1413,Isabelle 1205.488700587536\n",
      "1296,Link 1205.6610855634106\n",
      "1334,Villager 1205.6643413083304\n",
      "1323,R.O.B. 1206.0512138168835\n",
      "1331,Snake 1206.1258356511828\n",
      "1313,Ness 1206.2312025886035\n",
      "1317,Peach 1209.5288895839922\n",
      "1316,Palutena 1210.264653718818\n",
      "1337,Wolf 1214.0082655187673\n",
      "1292,Inkling 1223.4917816995644\n"
     ]
    }
   ],
   "source": [
    "char_elos = np.mean(score_array, axis=0)\n",
    "tier_list = np.argsort(char_elos)\n",
    "with open('./data/char_mapping.csv','r') as f:\n",
    "    lines = f.read().splitlines()\n",
    "for idx in tier_list:\n",
    "    print(lines[idx],char_elos[idx])"
   ]
  },
  {
   "cell_type": "code",
   "execution_count": null,
   "metadata": {},
   "outputs": [],
   "source": []
  }
 ],
 "metadata": {
  "kernelspec": {
   "display_name": "Python 3",
   "language": "python",
   "name": "python3"
  },
  "language_info": {
   "codemirror_mode": {
    "name": "ipython",
    "version": 3
   },
   "file_extension": ".py",
   "mimetype": "text/x-python",
   "name": "python",
   "nbconvert_exporter": "python",
   "pygments_lexer": "ipython3",
   "version": "3.6.7"
  }
 },
 "nbformat": 4,
 "nbformat_minor": 2
}
