{
 "cells": [
  {
   "cell_type": "code",
   "execution_count": 15,
   "metadata": {},
   "outputs": [],
   "source": [
    "import numpy as np\n",
    "import pickle\n",
    "from compute_elo import default_player"
   ]
  },
  {
   "cell_type": "code",
   "execution_count": 16,
   "metadata": {},
   "outputs": [],
   "source": [
    "infile =  open('./data/history_file','rb')\n",
    "history = pickle.load(infile)"
   ]
  },
  {
   "cell_type": "code",
   "execution_count": 17,
   "metadata": {},
   "outputs": [],
   "source": [
    "match_numbers = [len(history[player]) for player in history]"
   ]
  },
  {
   "cell_type": "code",
   "execution_count": 18,
   "metadata": {},
   "outputs": [
    {
     "data": {
      "text/plain": [
       "8.95262946607788"
      ]
     },
     "execution_count": 18,
     "metadata": {},
     "output_type": "execute_result"
    }
   ],
   "source": [
    "np.mean(match_numbers)"
   ]
  },
  {
   "cell_type": "code",
   "execution_count": 19,
   "metadata": {},
   "outputs": [],
   "source": [
    "final_scores = list()\n",
    "\n",
    "for player in history:\n",
    "    final_score = history[player][-1][1]\n",
    "    final_scores.append(final_score)\n",
    "score_array = np.array(final_scores)"
   ]
  },
  {
   "cell_type": "code",
   "execution_count": 21,
   "metadata": {},
   "outputs": [
    {
     "name": "stdout",
     "output_type": "stream",
     "text": [
      "[1149.3052505915703, 1160.0596326669697, 1163.1096026496693, 1163.7454095075466, 1169.871755332464, 1171.1001262167274, 1174.114548471607, 1175.4741364465979, 1176.9903600014277, 1178.343425667854, 1179.779430370741, 1180.0777355892558, 1180.2880708805046, 1181.2715135127003, 1181.7206106713597, 1182.7454646905508, 1183.5387491029137, 1183.911818390401, 1184.0412318812485, 1184.397402387467, 1184.4673673364914, 1184.5326575800648, 1184.635660936201, 1185.2911773070325, 1185.3219594857658, 1185.6124185010096, 1185.869412602788, 1186.1474567773594, 1187.544891143819, 1187.5692026514466, 1188.376845022913, 1188.3768462161217, 1188.6602410540952, 1189.169344062644, 1189.238956577841, 1189.4770247435256, 1189.5677148060347, 1190.1063987685025, 1190.397479600628, 1190.6265798875154, 1190.8459854497603, 1190.9330665163743, 1191.2000301419157, 1191.3321614989304, 1191.6816597641646, 1192.5196583454479, 1192.559382205986, 1192.8718322020654, 1192.9665812660137, 1193.0465136904143, 1193.0780004108503, 1193.1111466627287, 1193.47600492054, 1193.4919105154493, 1194.2676014083218, 1194.6483185772302, 1194.7244376025387, 1194.7607467423225, 1195.1926478304754, 1195.5746770865155, 1195.597524660332, 1195.6643125006046, 1196.0647299004766, 1196.1414984748058, 1196.6140002795107, 1197.0169748157437, 1197.344753099196, 1197.74201371153, 1197.8564895400234, 1198.6174189460723, 1198.7960817450669, 1199.9541757154445]\n"
     ]
    }
   ],
   "source": [
    "print(sorted(np.mean(score_array, axis=0)))"
   ]
  },
  {
   "cell_type": "code",
   "execution_count": null,
   "metadata": {},
   "outputs": [],
   "source": []
  }
 ],
 "metadata": {
  "kernelspec": {
   "display_name": "Python 3",
   "language": "python",
   "name": "python3"
  },
  "language_info": {
   "codemirror_mode": {
    "name": "ipython",
    "version": 3
   },
   "file_extension": ".py",
   "mimetype": "text/x-python",
   "name": "python",
   "nbconvert_exporter": "python",
   "pygments_lexer": "ipython3",
   "version": "3.6.7"
  }
 },
 "nbformat": 4,
 "nbformat_minor": 2
}
